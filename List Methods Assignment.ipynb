{
 "cells": [
  {
   "cell_type": "markdown",
   "id": "8e6f1acf",
   "metadata": {},
   "source": [
    "# Append"
   ]
  },
  {
   "cell_type": "code",
   "execution_count": 12,
   "id": "c1e4959f",
   "metadata": {},
   "outputs": [
    {
     "data": {
      "text/plain": [
       "['John', 'Mary', 'Pearl', 'Shalom', 'Philip']"
      ]
     },
     "execution_count": 12,
     "metadata": {},
     "output_type": "execute_result"
    }
   ],
   "source": [
    "# 1\n",
    "names = [\"John\", \"Mary\", \"Pearl\", \"Shalom\"]\n",
    "names.append(\"Philip\")\n",
    "names"
   ]
  },
  {
   "cell_type": "code",
   "execution_count": 13,
   "id": "233d3058",
   "metadata": {},
   "outputs": [
    {
     "data": {
      "text/plain": [
       "[80, 55, 74, 58, 90, 65]"
      ]
     },
     "execution_count": 13,
     "metadata": {},
     "output_type": "execute_result"
    }
   ],
   "source": [
    "# 2\n",
    "scores = [80, 55, 74, 58, 90]\n",
    "scores.append(65)\n",
    "scores"
   ]
  },
  {
   "cell_type": "code",
   "execution_count": 14,
   "id": "27227fdc",
   "metadata": {},
   "outputs": [
    {
     "data": {
      "text/plain": [
       "['Nigeria', 'USA', 'Ghana', 'South Africa', 'France']"
      ]
     },
     "execution_count": 14,
     "metadata": {},
     "output_type": "execute_result"
    }
   ],
   "source": [
    "# 3\n",
    "countries = [\"Nigeria\", \"USA\", \"Ghana\", \"South Africa\"]\n",
    "countries.append(\"France\")\n",
    "countries"
   ]
  },
  {
   "cell_type": "code",
   "execution_count": 15,
   "id": "1eeaeb10",
   "metadata": {},
   "outputs": [
    {
     "data": {
      "text/plain": [
       "['Lagos', 'Ogun', 'Abia', 'Borno', 'Nassarawa']"
      ]
     },
     "execution_count": 15,
     "metadata": {},
     "output_type": "execute_result"
    }
   ],
   "source": [
    "# 4\n",
    "states = [\"Lagos\", \"Ogun\", \"Abia\", \"Borno\"]\n",
    "states.append(\"Nassarawa\")\n",
    "states"
   ]
  },
  {
   "cell_type": "code",
   "execution_count": 16,
   "id": "73f85aed",
   "metadata": {},
   "outputs": [
    {
     "data": {
      "text/plain": [
       "['Python', 'Java', 'Javascript', 'Go_lang', 'R']"
      ]
     },
     "execution_count": 16,
     "metadata": {},
     "output_type": "execute_result"
    }
   ],
   "source": [
    "# 5\n",
    "programming_languages = [\"Python\", \"Java\", \"Javascript\", \"Go_lang\"]\n",
    "programming_languages.append(\"R\")\n",
    "programming_languages"
   ]
  },
  {
   "cell_type": "code",
   "execution_count": 17,
   "id": "467a6d7a",
   "metadata": {},
   "outputs": [
    {
     "data": {
      "text/plain": [
       "['s', 'm', 'l', 'xl']"
      ]
     },
     "execution_count": 17,
     "metadata": {},
     "output_type": "execute_result"
    }
   ],
   "source": [
    "# 6\n",
    "shirt_sizes = [\"s\", \"m\", \"l\"]\n",
    "shirt_sizes.append(\"xl\")\n",
    "shirt_sizes"
   ]
  },
  {
   "cell_type": "code",
   "execution_count": 18,
   "id": "80450ca0",
   "metadata": {},
   "outputs": [
    {
     "data": {
      "text/plain": [
       "[1984, 1993, 1814, 2004, 1740]"
      ]
     },
     "execution_count": 18,
     "metadata": {},
     "output_type": "execute_result"
    }
   ],
   "source": [
    "# 7\n",
    "year = [1984, 1993, 1814, 2004]\n",
    "year.append(1740)\n",
    "year"
   ]
  },
  {
   "cell_type": "code",
   "execution_count": 19,
   "id": "7c84c3e6",
   "metadata": {},
   "outputs": [
    {
     "data": {
      "text/plain": [
       "[102, 95, 80, 84, 110]"
      ]
     },
     "execution_count": 19,
     "metadata": {},
     "output_type": "execute_result"
    }
   ],
   "source": [
    "# 8\n",
    "age = [102, 95, 80, 84]\n",
    "age.append(110)\n",
    "age"
   ]
  },
  {
   "cell_type": "code",
   "execution_count": 20,
   "id": "038dd540",
   "metadata": {},
   "outputs": [
    {
     "data": {
      "text/plain": [
       "['instagram', 'whatsapp', 'tiktok', 'twitter']"
      ]
     },
     "execution_count": 20,
     "metadata": {},
     "output_type": "execute_result"
    }
   ],
   "source": [
    "# 9\n",
    "social_media = ['instagram', 'whatsapp', 'tiktok']\n",
    "social_media.append('twitter')\n",
    "social_media"
   ]
  },
  {
   "cell_type": "code",
   "execution_count": 21,
   "id": "2b4ccdf5",
   "metadata": {},
   "outputs": [
    {
     "data": {
      "text/plain": [
       "['Basic science',\n",
       " 'ICT',\n",
       " 'Civic Education',\n",
       " 'Further Mathematics',\n",
       " 'English language']"
      ]
     },
     "execution_count": 21,
     "metadata": {},
     "output_type": "execute_result"
    }
   ],
   "source": [
    "# 10\n",
    "subjects = ['Basic science', 'ICT', 'Civic Education', 'Further Mathematics']\n",
    "subjects.append('English language')\n",
    "subjects"
   ]
  },
  {
   "cell_type": "markdown",
   "id": "eb5ebd9a",
   "metadata": {},
   "source": [
    "# Insert"
   ]
  },
  {
   "cell_type": "code",
   "execution_count": 30,
   "id": "d25f70be",
   "metadata": {},
   "outputs": [
    {
     "data": {
      "text/plain": [
       "['Smith', 'Ken', 'Matthew', 'Ade', 'White']"
      ]
     },
     "execution_count": 30,
     "metadata": {},
     "output_type": "execute_result"
    }
   ],
   "source": [
    "# 1\n",
    "first_names = [\"Smith\", \"Ken\", \"Ade\", \"White\"]\n",
    "first_names.insert(-2, \"Matthew\")\n",
    "first_names"
   ]
  },
  {
   "cell_type": "code",
   "execution_count": 31,
   "id": "1a80173d",
   "metadata": {},
   "outputs": [
    {
     "data": {
      "text/plain": [
       "['Joshua', 'Smith', 'Ken', 'Matthew', 'Ade', 'White']"
      ]
     },
     "execution_count": 31,
     "metadata": {},
     "output_type": "execute_result"
    }
   ],
   "source": [
    "# 2\n",
    "first_names.insert(0, \"Joshua\")\n",
    "first_names"
   ]
  },
  {
   "cell_type": "code",
   "execution_count": 32,
   "id": "425b91dd",
   "metadata": {},
   "outputs": [
    {
     "data": {
      "text/plain": [
       "['Joshua', 'Smith', 'Ken', 'Matthew', 'Ade', 'Ola', 'White']"
      ]
     },
     "execution_count": 32,
     "metadata": {},
     "output_type": "execute_result"
    }
   ],
   "source": [
    "# 3\n",
    "first_names.insert(-1, \"Ola\")\n",
    "first_names"
   ]
  },
  {
   "cell_type": "code",
   "execution_count": 33,
   "id": "f7088c1f",
   "metadata": {},
   "outputs": [
    {
     "data": {
      "text/plain": [
       "['Red', 'Blue', 'Orange', 'purple']"
      ]
     },
     "execution_count": 33,
     "metadata": {},
     "output_type": "execute_result"
    }
   ],
   "source": [
    "# 4\n",
    "colors = [\"Red\", \"Blue\", \"Orange\"]\n",
    "colors.insert(3, \"purple\")\n",
    "colors"
   ]
  },
  {
   "cell_type": "code",
   "execution_count": 34,
   "id": "d8ba4015",
   "metadata": {},
   "outputs": [
    {
     "data": {
      "text/plain": [
       "['Red', 'pink', 'Blue', 'Orange', 'purple']"
      ]
     },
     "execution_count": 34,
     "metadata": {},
     "output_type": "execute_result"
    }
   ],
   "source": [
    "# 5\n",
    "colors.insert(1, \"pink\")\n",
    "colors"
   ]
  },
  {
   "cell_type": "code",
   "execution_count": 35,
   "id": "0947f7ef",
   "metadata": {},
   "outputs": [
    {
     "data": {
      "text/plain": [
       "['toyota', 'lexus', 'honda', 'mercedes']"
      ]
     },
     "execution_count": 35,
     "metadata": {},
     "output_type": "execute_result"
    }
   ],
   "source": [
    "# 6\n",
    "cars = ['toyota', 'lexus', 'mercedes']\n",
    "cars.insert(2, 'honda')\n",
    "cars"
   ]
  },
  {
   "cell_type": "code",
   "execution_count": 36,
   "id": "753beb0a",
   "metadata": {},
   "outputs": [
    {
     "data": {
      "text/plain": [
       "['toyota', 'lexus', 'honda', 'mercedes', 'ford']"
      ]
     },
     "execution_count": 36,
     "metadata": {},
     "output_type": "execute_result"
    }
   ],
   "source": [
    "# 7\n",
    "cars.insert(4, 'ford')\n",
    "cars"
   ]
  },
  {
   "cell_type": "code",
   "execution_count": 37,
   "id": "57846164",
   "metadata": {},
   "outputs": [
    {
     "data": {
      "text/plain": [
       "[44, 114, 23, 110, 95, 98]"
      ]
     },
     "execution_count": 37,
     "metadata": {},
     "output_type": "execute_result"
    }
   ],
   "source": [
    "# 8\n",
    "numbers = [114, 23, 110, 95, 98]\n",
    "numbers.insert(0, 44)\n",
    "numbers"
   ]
  },
  {
   "cell_type": "code",
   "execution_count": 38,
   "id": "e558333c",
   "metadata": {},
   "outputs": [
    {
     "data": {
      "text/plain": [
       "[44, 114, 23, 124, 110, 95, 98]"
      ]
     },
     "execution_count": 38,
     "metadata": {},
     "output_type": "execute_result"
    }
   ],
   "source": [
    "# 9\n",
    "numbers.insert(-3, 124)\n",
    "numbers"
   ]
  },
  {
   "cell_type": "code",
   "execution_count": 39,
   "id": "243ba150",
   "metadata": {},
   "outputs": [
    {
     "data": {
      "text/plain": [
       "[44, 114, 23, 124, 110, 18, 95, 98]"
      ]
     },
     "execution_count": 39,
     "metadata": {},
     "output_type": "execute_result"
    }
   ],
   "source": [
    "# 10\n",
    "numbers.insert(-2, 18)\n",
    "numbers"
   ]
  },
  {
   "cell_type": "markdown",
   "id": "c56f274f",
   "metadata": {},
   "source": [
    "# Extend"
   ]
  },
  {
   "cell_type": "code",
   "execution_count": 40,
   "id": "a6240e35",
   "metadata": {},
   "outputs": [
    {
     "data": {
      "text/plain": [
       "['Data science',\n",
       " 'Data Analytics',\n",
       " 'Product design',\n",
       " 'Frontend development',\n",
       " 'Backend development']"
      ]
     },
     "execution_count": 40,
     "metadata": {},
     "output_type": "execute_result"
    }
   ],
   "source": [
    "# 1\n",
    "tech_courses = [\"Data science\", \"Data Analytics\", \"Product design\"]\n",
    "tech_courses.extend([\"Frontend development\", \"Backend development\"])\n",
    "tech_courses"
   ]
  },
  {
   "cell_type": "code",
   "execution_count": 41,
   "id": "18806ebb",
   "metadata": {},
   "outputs": [
    {
     "data": {
      "text/plain": [
       "['Data science',\n",
       " 'Data Analytics',\n",
       " 'Product design',\n",
       " 'Frontend development',\n",
       " 'Backend development',\n",
       " 'Digital Marketing',\n",
       " 'Product management']"
      ]
     },
     "execution_count": 41,
     "metadata": {},
     "output_type": "execute_result"
    }
   ],
   "source": [
    "# 2\n",
    "tech_courses.extend([\"Digital Marketing\", \"Product management\"])\n",
    "tech_courses"
   ]
  },
  {
   "cell_type": "code",
   "execution_count": 42,
   "id": "59021ed0",
   "metadata": {},
   "outputs": [
    {
     "data": {
      "text/plain": [
       "['Africa', 'Asia', 'Europe', 'South America', 'North America']"
      ]
     },
     "execution_count": 42,
     "metadata": {},
     "output_type": "execute_result"
    }
   ],
   "source": [
    "# 3\n",
    "continent = ['Africa', 'Asia']\n",
    "continent.extend(['Europe', 'South America', 'North America'])\n",
    "continent"
   ]
  },
  {
   "cell_type": "code",
   "execution_count": 43,
   "id": "6632963f",
   "metadata": {},
   "outputs": [
    {
     "data": {
      "text/plain": [
       "['Grace', 'James', 'Fred', 'Samuel', 'Tosin', 'Martins', 'Gray']"
      ]
     },
     "execution_count": 43,
     "metadata": {},
     "output_type": "execute_result"
    }
   ],
   "source": [
    "# 4\n",
    "last_names = ['Grace', 'James', 'Fred', 'Samuel']\n",
    "last_names.extend(['Tosin', 'Martins', 'Gray'])\n",
    "last_names"
   ]
  },
  {
   "cell_type": "code",
   "execution_count": 44,
   "id": "e50869fc",
   "metadata": {},
   "outputs": [
    {
     "data": {
      "text/plain": [
       "['Grace',\n",
       " 'James',\n",
       " 'Fred',\n",
       " 'Samuel',\n",
       " 'Tosin',\n",
       " 'Martins',\n",
       " 'Gray',\n",
       " 'Paul',\n",
       " 'Goke',\n",
       " 'Friend',\n",
       " 'Femi']"
      ]
     },
     "execution_count": 44,
     "metadata": {},
     "output_type": "execute_result"
    }
   ],
   "source": [
    "# 5\n",
    "last_names.extend(['Paul', 'Goke', 'Friend', 'Femi'])\n",
    "last_names"
   ]
  },
  {
   "cell_type": "code",
   "execution_count": 45,
   "id": "18948bf8",
   "metadata": {},
   "outputs": [
    {
     "data": {
      "text/plain": [
       "['medicine',\n",
       " 'law',\n",
       " 'english',\n",
       " 'insurance',\n",
       " 'accounting',\n",
       " 'microbiology',\n",
       " 'engineering']"
      ]
     },
     "execution_count": 45,
     "metadata": {},
     "output_type": "execute_result"
    }
   ],
   "source": [
    "# 6\n",
    "discipline = ['medicine', 'law', 'english', 'insurance']\n",
    "discipline.extend(['accounting', 'microbiology', 'engineering'])\n",
    "discipline"
   ]
  },
  {
   "cell_type": "code",
   "execution_count": 46,
   "id": "968a7041",
   "metadata": {},
   "outputs": [
    {
     "data": {
      "text/plain": [
       "['medicine',\n",
       " 'law',\n",
       " 'english',\n",
       " 'insurance',\n",
       " 'accounting',\n",
       " 'microbiology',\n",
       " 'engineering',\n",
       " 'economics',\n",
       " 'psychology',\n",
       " 'zoology']"
      ]
     },
     "execution_count": 46,
     "metadata": {},
     "output_type": "execute_result"
    }
   ],
   "source": [
    "# 7\n",
    "discipline.extend(['economics', 'psychology', 'zoology'])\n",
    "discipline"
   ]
  },
  {
   "cell_type": "code",
   "execution_count": 47,
   "id": "b2584ddb",
   "metadata": {},
   "outputs": [
    {
     "data": {
      "text/plain": [
       "['beans', 'fish', 'meat', 'milk', 'egg']"
      ]
     },
     "execution_count": 47,
     "metadata": {},
     "output_type": "execute_result"
    }
   ],
   "source": [
    "# 8\n",
    "proteins = ['beans', 'fish', 'meat']\n",
    "proteins.extend(['milk', 'egg'])\n",
    "proteins"
   ]
  },
  {
   "cell_type": "code",
   "execution_count": 48,
   "id": "01cdc9a0",
   "metadata": {},
   "outputs": [
    {
     "data": {
      "text/plain": [
       "['cnn', 'bbc', 'nta', 'algezeera', 'channels', 'arise', 'tvc']"
      ]
     },
     "execution_count": 48,
     "metadata": {},
     "output_type": "execute_result"
    }
   ],
   "source": [
    "# 9\n",
    "news_channels = ['cnn', 'bbc', 'nta', 'algezeera']\n",
    "news_channels.extend(['channels', 'arise', 'tvc'])\n",
    "news_channels"
   ]
  },
  {
   "cell_type": "code",
   "execution_count": 49,
   "id": "2cc1dc41",
   "metadata": {},
   "outputs": [
    {
     "data": {
      "text/plain": [
       "['agricultural', 'power', 'finance', 'aviation', 'transport', 'education']"
      ]
     },
     "execution_count": 49,
     "metadata": {},
     "output_type": "execute_result"
    }
   ],
   "source": [
    "# 10\n",
    "sectors = ['agricultural', 'power', 'finance',]\n",
    "sectors.extend(['aviation', 'transport', 'education'])\n",
    "sectors"
   ]
  },
  {
   "cell_type": "markdown",
   "id": "f9450046",
   "metadata": {},
   "source": [
    "# Pop"
   ]
  },
  {
   "cell_type": "code",
   "execution_count": 50,
   "id": "59841c0b",
   "metadata": {},
   "outputs": [
    {
     "data": {
      "text/plain": [
       "['John', 'Mary', 'Pearl']"
      ]
     },
     "execution_count": 50,
     "metadata": {},
     "output_type": "execute_result"
    }
   ],
   "source": [
    "# 1\n",
    "names = [\"John\", \"Mary\", \"Pearl\", \"Shalom\"]\n",
    "names.pop()\n",
    "names"
   ]
  },
  {
   "cell_type": "code",
   "execution_count": 51,
   "id": "956e6df6",
   "metadata": {},
   "outputs": [
    {
     "data": {
      "text/plain": [
       "['Violet', 'Magneta', 'Gray', 'Black']"
      ]
     },
     "execution_count": 51,
     "metadata": {},
     "output_type": "execute_result"
    }
   ],
   "source": [
    "# 2\n",
    "colors = [\"Violet\", \"Magneta\", \"Yellow\", \"Gray\", \"Black\"]\n",
    "colors.pop(-3)\n",
    "colors"
   ]
  },
  {
   "cell_type": "code",
   "execution_count": 52,
   "id": "c0afb888",
   "metadata": {},
   "outputs": [
    {
     "data": {
      "text/plain": [
       "['Violet', 'Magneta', 'Gray']"
      ]
     },
     "execution_count": 52,
     "metadata": {},
     "output_type": "execute_result"
    }
   ],
   "source": [
    "# 3\n",
    "colors.pop(-1)\n",
    "colors"
   ]
  },
  {
   "cell_type": "code",
   "execution_count": 53,
   "id": "b2a68799",
   "metadata": {},
   "outputs": [
    {
     "data": {
      "text/plain": [
       "['igbo', 'hausa', 'ibibio', 'efik', 'tiv']"
      ]
     },
     "execution_count": 53,
     "metadata": {},
     "output_type": "execute_result"
    }
   ],
   "source": [
    "# 4\n",
    "languages = ['yoruba', 'igbo', 'hausa', 'ibibio', 'efik', 'tiv']\n",
    "languages.pop(0)\n",
    "languages"
   ]
  },
  {
   "cell_type": "code",
   "execution_count": 54,
   "id": "d9a973c7",
   "metadata": {},
   "outputs": [
    {
     "data": {
      "text/plain": [
       "['igbo', 'hausa', 'efik', 'tiv']"
      ]
     },
     "execution_count": 54,
     "metadata": {},
     "output_type": "execute_result"
    }
   ],
   "source": [
    "# 5\n",
    "languages.pop(2)\n",
    "languages"
   ]
  },
  {
   "cell_type": "code",
   "execution_count": 55,
   "id": "67745b7f",
   "metadata": {},
   "outputs": [
    {
     "data": {
      "text/plain": [
       "[22001, 22003, 22010, 22014]"
      ]
     },
     "execution_count": 55,
     "metadata": {},
     "output_type": "execute_result"
    }
   ],
   "source": [
    "# 6\n",
    "admission_no = [22001, 22002, 22003, 22010, 22014]\n",
    "admission_no.pop(1)\n",
    "admission_no"
   ]
  },
  {
   "cell_type": "code",
   "execution_count": 56,
   "id": "29def77d",
   "metadata": {},
   "outputs": [
    {
     "data": {
      "text/plain": [
       "[22001, 22003, 22010]"
      ]
     },
     "execution_count": 56,
     "metadata": {},
     "output_type": "execute_result"
    }
   ],
   "source": [
    "# 7\n",
    "admission_no.pop(3)\n",
    "admission_no"
   ]
  },
  {
   "cell_type": "code",
   "execution_count": 57,
   "id": "5fba136a",
   "metadata": {},
   "outputs": [
    {
     "data": {
      "text/plain": [
       "['January', 'October', 'may', 'December']"
      ]
     },
     "execution_count": 57,
     "metadata": {},
     "output_type": "execute_result"
    }
   ],
   "source": [
    "# 8\n",
    "months = [\"January\", \"October\", \"may\", \"December\", \"June\"]\n",
    "months.pop(4)\n",
    "months"
   ]
  },
  {
   "cell_type": "code",
   "execution_count": 58,
   "id": "3dc894c8",
   "metadata": {},
   "outputs": [
    {
     "data": {
      "text/plain": [
       "['January', 'October', 'may']"
      ]
     },
     "execution_count": 58,
     "metadata": {},
     "output_type": "execute_result"
    }
   ],
   "source": [
    "# 9\n",
    "months.pop(-1)\n",
    "months"
   ]
  },
  {
   "cell_type": "code",
   "execution_count": 59,
   "id": "a0eff039",
   "metadata": {},
   "outputs": [
    {
     "data": {
      "text/plain": [
       "['January', 'October']"
      ]
     },
     "execution_count": 59,
     "metadata": {},
     "output_type": "execute_result"
    }
   ],
   "source": [
    "# 10\n",
    "months.pop(2)\n",
    "months"
   ]
  },
  {
   "cell_type": "markdown",
   "id": "29d07a0d",
   "metadata": {},
   "source": [
    "# Remove"
   ]
  },
  {
   "cell_type": "code",
   "execution_count": 60,
   "id": "37cc27e0",
   "metadata": {},
   "outputs": [
    {
     "data": {
      "text/plain": [
       "['new york', 'paris', 'chicago', 'accra']"
      ]
     },
     "execution_count": 60,
     "metadata": {},
     "output_type": "execute_result"
    }
   ],
   "source": [
    "# 1\n",
    "cities = ['lagos', 'new york', 'paris', 'chicago', 'accra']\n",
    "cities.remove('lagos')\n",
    "cities"
   ]
  },
  {
   "cell_type": "code",
   "execution_count": 61,
   "id": "b66b25c5",
   "metadata": {},
   "outputs": [
    {
     "data": {
      "text/plain": [
       "['Kenya', 'China', 'United kingdom', 'Tokyo']"
      ]
     },
     "execution_count": 61,
     "metadata": {},
     "output_type": "execute_result"
    }
   ],
   "source": [
    "# 2\n",
    "countries = ['Kenya', 'China', 'United kingdom', 'Tokyo', 'Japan']\n",
    "countries.remove('Japan')\n",
    "countries"
   ]
  },
  {
   "cell_type": "code",
   "execution_count": 62,
   "id": "011bf6cd",
   "metadata": {},
   "outputs": [
    {
     "data": {
      "text/plain": [
       "['Kenya', 'China', 'United kingdom']"
      ]
     },
     "execution_count": 62,
     "metadata": {},
     "output_type": "execute_result"
    }
   ],
   "source": [
    "# 3\n",
    "countries.remove('Tokyo')\n",
    "countries"
   ]
  },
  {
   "cell_type": "code",
   "execution_count": 63,
   "id": "9e6ad626",
   "metadata": {},
   "outputs": [
    {
     "data": {
      "text/plain": [
       "['Abejoye', 'Abattoir', 'Games', 'Gbemi', 'The keeper']"
      ]
     },
     "execution_count": 63,
     "metadata": {},
     "output_type": "execute_result"
    }
   ],
   "source": [
    "# 4\n",
    "movies = ['Abejoye', 'Abattoir', 'Games', 'My Dream', 'Gbemi', 'The keeper']\n",
    "movies.remove('My Dream')\n",
    "movies"
   ]
  },
  {
   "cell_type": "code",
   "execution_count": 64,
   "id": "554a3797",
   "metadata": {},
   "outputs": [
    {
     "data": {
      "text/plain": [
       "['Abejoye', 'Abattoir', 'Games', 'The keeper']"
      ]
     },
     "execution_count": 64,
     "metadata": {},
     "output_type": "execute_result"
    }
   ],
   "source": [
    "# 5\n",
    "movies.remove('Gbemi')\n",
    "movies"
   ]
  },
  {
   "cell_type": "code",
   "execution_count": 66,
   "id": "6ae48d46",
   "metadata": {},
   "outputs": [
    {
     "data": {
      "text/plain": [
       "['AI', 'Content Creation', 'Machine Learning', 'Graphic Design']"
      ]
     },
     "execution_count": 66,
     "metadata": {},
     "output_type": "execute_result"
    }
   ],
   "source": [
    "# 6\n",
    "tech_courses = [\"AI\", \"Content Creation\", \"Machine Learning\", \"Copy Writing\", \"Graphic Design\"]\n",
    "tech_courses.remove('Copy Writing')\n",
    "tech_courses"
   ]
  },
  {
   "cell_type": "code",
   "execution_count": 67,
   "id": "5e89b60d",
   "metadata": {},
   "outputs": [
    {
     "data": {
      "text/plain": [
       "['Content Creation', 'Machine Learning', 'Graphic Design']"
      ]
     },
     "execution_count": 67,
     "metadata": {},
     "output_type": "execute_result"
    }
   ],
   "source": [
    "# 7\n",
    "tech_courses.remove('AI')\n",
    "tech_courses"
   ]
  },
  {
   "cell_type": "code",
   "execution_count": 68,
   "id": "f89756ee",
   "metadata": {},
   "outputs": [
    {
     "data": {
      "text/plain": [
       "[1, 5, 7, 9, 11]"
      ]
     },
     "execution_count": 68,
     "metadata": {},
     "output_type": "execute_result"
    }
   ],
   "source": [
    "# 8\n",
    "odd_nums = [1, 3, 5, 7, 9, 11]\n",
    "odd_nums.remove(3)\n",
    "odd_nums"
   ]
  },
  {
   "cell_type": "code",
   "execution_count": 69,
   "id": "3f3be433",
   "metadata": {},
   "outputs": [
    {
     "data": {
      "text/plain": [
       "[1, 5, 7, 9]"
      ]
     },
     "execution_count": 69,
     "metadata": {},
     "output_type": "execute_result"
    }
   ],
   "source": [
    "# 9\n",
    "odd_nums.remove(11)\n",
    "odd_nums"
   ]
  },
  {
   "cell_type": "code",
   "execution_count": 70,
   "id": "3a3612a9",
   "metadata": {},
   "outputs": [
    {
     "data": {
      "text/plain": [
       "[1, 7, 9]"
      ]
     },
     "execution_count": 70,
     "metadata": {},
     "output_type": "execute_result"
    }
   ],
   "source": [
    "# 10\n",
    "odd_nums.remove(5)\n",
    "odd_nums"
   ]
  },
  {
   "cell_type": "markdown",
   "id": "dfa2378c",
   "metadata": {},
   "source": [
    "# Sort"
   ]
  },
  {
   "cell_type": "code",
   "execution_count": 72,
   "id": "39fec8ea",
   "metadata": {},
   "outputs": [
    {
     "data": {
      "text/plain": [
       "[2, 4, 8, 16, 18, 24, 96]"
      ]
     },
     "execution_count": 72,
     "metadata": {},
     "output_type": "execute_result"
    }
   ],
   "source": [
    "# 1\n",
    "even_nums = [4, 8, 2, 24, 16, 96, 18]\n",
    "even_nums.sort()\n",
    "even_nums"
   ]
  },
  {
   "cell_type": "code",
   "execution_count": 73,
   "id": "7f676d3b",
   "metadata": {},
   "outputs": [
    {
     "data": {
      "text/plain": [
       "['blessing', 'cat', 'elephant', 'ikeja', 'jenny']"
      ]
     },
     "execution_count": 73,
     "metadata": {},
     "output_type": "execute_result"
    }
   ],
   "source": [
    "# 2\n",
    "nouns = [\"jenny\", \"cat\", \"ikeja\", \"elephant\", \"blessing\"]\n",
    "nouns.sort()\n",
    "nouns"
   ]
  },
  {
   "cell_type": "code",
   "execution_count": 74,
   "id": "5b6edb28",
   "metadata": {},
   "outputs": [
    {
     "data": {
      "text/plain": [
       "['curvy', 'straight', 'zigzag']"
      ]
     },
     "execution_count": 74,
     "metadata": {},
     "output_type": "execute_result"
    }
   ],
   "source": [
    "# 3\n",
    "lines = ['straight', 'curvy', 'zigzag',]\n",
    "lines.sort()\n",
    "lines"
   ]
  },
  {
   "cell_type": "code",
   "execution_count": 75,
   "id": "fcdeaa90",
   "metadata": {},
   "outputs": [
    {
     "data": {
      "text/plain": [
       "['android', 'apple', 'infinix', 'nokia', 'samsung', 'tecno']"
      ]
     },
     "execution_count": 75,
     "metadata": {},
     "output_type": "execute_result"
    }
   ],
   "source": [
    "# 4\n",
    "phones = ['android', 'samsung', 'apple', 'infinix', 'nokia', 'tecno']\n",
    "phones.sort()\n",
    "phones"
   ]
  },
  {
   "cell_type": "code",
   "execution_count": 76,
   "id": "9c37446a",
   "metadata": {},
   "outputs": [
    {
     "data": {
      "text/plain": [
       "['airtel', 'etisalat', 'glo', 'mtn']"
      ]
     },
     "execution_count": 76,
     "metadata": {},
     "output_type": "execute_result"
    }
   ],
   "source": [
    "# 5\n",
    "network = ['mtn', 'glo', 'airtel', 'etisalat']\n",
    "network.sort()\n",
    "network"
   ]
  },
  {
   "cell_type": "code",
   "execution_count": 77,
   "id": "4401f39a",
   "metadata": {},
   "outputs": [
    {
     "data": {
      "text/plain": [
       "['buns', 'doughunt', 'egg roll', 'fish roll', 'meat pie']"
      ]
     },
     "execution_count": 77,
     "metadata": {},
     "output_type": "execute_result"
    }
   ],
   "source": [
    "# 6\n",
    "snacks = ['meat pie', 'egg roll', 'fish roll', 'doughunt', 'buns']\n",
    "snacks.sort()\n",
    "snacks"
   ]
  },
  {
   "cell_type": "code",
   "execution_count": 78,
   "id": "04f7a749",
   "metadata": {},
   "outputs": [
    {
     "data": {
      "text/plain": [
       "['cpu', 'keyboard', 'printer', 'speaker']"
      ]
     },
     "execution_count": 78,
     "metadata": {},
     "output_type": "execute_result"
    }
   ],
   "source": [
    "# 7\n",
    "output_devices = [\"printer\", \"keyboard\", \"speaker\", \"cpu\"]\n",
    "output_devices.sort()\n",
    "output_devices"
   ]
  },
  {
   "cell_type": "code",
   "execution_count": 79,
   "id": "ba30f56f",
   "metadata": {},
   "outputs": [
    {
     "data": {
      "text/plain": [
       "['February', 'july', 'march', 'september']"
      ]
     },
     "execution_count": 79,
     "metadata": {},
     "output_type": "execute_result"
    }
   ],
   "source": [
    "# 8\n",
    "months = [\"February\", \"march\", \"july\", \"september\"]\n",
    "months.sort()\n",
    "months"
   ]
  },
  {
   "cell_type": "code",
   "execution_count": 80,
   "id": "6af1b85e",
   "metadata": {},
   "outputs": [
    {
     "data": {
      "text/plain": [
       "['beans', 'plantain', 'rice', 'yam']"
      ]
     },
     "execution_count": 80,
     "metadata": {},
     "output_type": "execute_result"
    }
   ],
   "source": [
    "# 9\n",
    "foods = ['rice', 'yam', 'plantain', 'beans',]\n",
    "foods.sort()\n",
    "foods"
   ]
  },
  {
   "cell_type": "code",
   "execution_count": 81,
   "id": "7d4da634",
   "metadata": {},
   "outputs": [
    {
     "data": {
      "text/plain": [
       "['comprehensive', 'educative', 'informative', 'knowledge', 'social']"
      ]
     },
     "execution_count": 81,
     "metadata": {},
     "output_type": "execute_result"
    }
   ],
   "source": [
    "# 10\n",
    "words = [\"educative\", \"social\", \"comprehensive\", \"knowledge\", \"informative\"]\n",
    "words.sort()\n",
    "words"
   ]
  },
  {
   "cell_type": "markdown",
   "id": "bc708ec6",
   "metadata": {},
   "source": [
    "# Reverse"
   ]
  },
  {
   "cell_type": "code",
   "execution_count": 82,
   "id": "ac55363f",
   "metadata": {},
   "outputs": [
    {
     "data": {
      "text/plain": [
       "['Jos', 'Ekiti', 'Imo', 'Abuja']"
      ]
     },
     "execution_count": 82,
     "metadata": {},
     "output_type": "execute_result"
    }
   ],
   "source": [
    "# 1\n",
    "states = ['Abuja', 'Imo', 'Ekiti', 'Jos']\n",
    "states.reverse()\n",
    "states"
   ]
  },
  {
   "cell_type": "code",
   "execution_count": 83,
   "id": "bbe2e55c",
   "metadata": {},
   "outputs": [
    {
     "data": {
      "text/plain": [
       "['cooker', 'washing machine', 'Toaster', 'fan', 'microwave']"
      ]
     },
     "execution_count": 83,
     "metadata": {},
     "output_type": "execute_result"
    }
   ],
   "source": [
    "# 2\n",
    "appliances = ['microwave', 'fan', 'Toaster', 'washing machine', 'cooker']\n",
    "appliances.reverse()\n",
    "appliances"
   ]
  },
  {
   "cell_type": "code",
   "execution_count": 84,
   "id": "8c90de57",
   "metadata": {},
   "outputs": [
    {
     "data": {
      "text/plain": [
       "['golden melon', 'pea', 'apple', 'carrot', 'cucumber']"
      ]
     },
     "execution_count": 84,
     "metadata": {},
     "output_type": "execute_result"
    }
   ],
   "source": [
    "# 3\n",
    "fruits = [\"cucumber\", \"carrot\", \"apple\", \"pea\", \"golden melon\"]\n",
    "fruits.reverse()\n",
    "fruits"
   ]
  },
  {
   "cell_type": "code",
   "execution_count": 85,
   "id": "7c9cf562",
   "metadata": {},
   "outputs": [
    {
     "data": {
      "text/plain": [
       "['noodles', 'bread', 'plantain', 'yam', 'rice']"
      ]
     },
     "execution_count": 85,
     "metadata": {},
     "output_type": "execute_result"
    }
   ],
   "source": [
    "# 4\n",
    "carbs = ['rice', 'yam', 'plantain', 'bread', 'noodles']\n",
    "carbs.reverse()\n",
    "carbs"
   ]
  },
  {
   "cell_type": "code",
   "execution_count": 87,
   "id": "f3d32a65",
   "metadata": {},
   "outputs": [
    {
     "data": {
      "text/plain": [
       "['wood', 'coal', 'crude oil', 'natural gas']"
      ]
     },
     "execution_count": 87,
     "metadata": {},
     "output_type": "execute_result"
    }
   ],
   "source": [
    "# 5\n",
    "natural_resources = ['natural gas', 'crude oil', 'coal', 'wood']\n",
    "natural_resources.reverse()\n",
    "natural_resources"
   ]
  },
  {
   "cell_type": "code",
   "execution_count": 88,
   "id": "ddefc629",
   "metadata": {},
   "outputs": [
    {
     "data": {
      "text/plain": [
       "['potassium', 'sodium', 'iron', 'phosphorus', 'copper', 'zinc']"
      ]
     },
     "execution_count": 88,
     "metadata": {},
     "output_type": "execute_result"
    }
   ],
   "source": [
    "# 6\n",
    "minerals = ['zinc', 'copper', 'phosphorus', 'iron', 'sodium', 'potassium']\n",
    "minerals.reverse()\n",
    "minerals"
   ]
  },
  {
   "cell_type": "code",
   "execution_count": 89,
   "id": "001d2bc6",
   "metadata": {},
   "outputs": [
    {
     "data": {
      "text/plain": [
       "['Jude', 'Joshua', 'Leviticus', 'Genesis', 'Luke', 'John']"
      ]
     },
     "execution_count": 89,
     "metadata": {},
     "output_type": "execute_result"
    }
   ],
   "source": [
    "# 7\n",
    "books = [\"John\", \"Luke\", \"Genesis\", \"Leviticus\", \"Joshua\", \"Jude\"]\n",
    "books.reverse()\n",
    "books"
   ]
  },
  {
   "cell_type": "code",
   "execution_count": 91,
   "id": "3837e277",
   "metadata": {},
   "outputs": [
    {
     "data": {
      "text/plain": [
       "['calm', 'clever', 'enormous', 'fun', 'fast']"
      ]
     },
     "execution_count": 91,
     "metadata": {},
     "output_type": "execute_result"
    }
   ],
   "source": [
    "# 8\n",
    "adjectives = ['fast', 'fun', 'enormous', 'clever', 'calm']\n",
    "adjectives.reverse()\n",
    "adjectives"
   ]
  },
  {
   "cell_type": "code",
   "execution_count": 92,
   "id": "3062e580",
   "metadata": {},
   "outputs": [
    {
     "data": {
      "text/plain": [
       "['indices', 'integration', 'differentiation']"
      ]
     },
     "execution_count": 92,
     "metadata": {},
     "output_type": "execute_result"
    }
   ],
   "source": [
    "# 9\n",
    "maths_topics = [\"differentiation\", \"integration\", \"indices\"]\n",
    "maths_topics.reverse()\n",
    "maths_topics"
   ]
  },
  {
   "cell_type": "code",
   "execution_count": 93,
   "id": "8e2c9064",
   "metadata": {},
   "outputs": [
    {
     "data": {
      "text/plain": [
       "['matplotlib', 'power bi', 'tableau']"
      ]
     },
     "execution_count": 93,
     "metadata": {},
     "output_type": "execute_result"
    }
   ],
   "source": [
    "# 10\n",
    "viz_tools = ['tableau', 'power bi', 'matplotlib']\n",
    "viz_tools.reverse()\n",
    "viz_tools"
   ]
  },
  {
   "cell_type": "markdown",
   "id": "32b27738",
   "metadata": {},
   "source": [
    "# Clear"
   ]
  },
  {
   "cell_type": "code",
   "execution_count": 94,
   "id": "d6002d79",
   "metadata": {},
   "outputs": [
    {
     "data": {
      "text/plain": [
       "[]"
      ]
     },
     "execution_count": 94,
     "metadata": {},
     "output_type": "execute_result"
    }
   ],
   "source": [
    "# 1\n",
    "mountains = ['mount everest', 'mount kilimanjaro', 'rocky mountains']\n",
    "mountains.clear()\n",
    "mountains"
   ]
  },
  {
   "cell_type": "code",
   "execution_count": 95,
   "id": "0e4390ea",
   "metadata": {},
   "outputs": [
    {
     "data": {
      "text/plain": [
       "[]"
      ]
     },
     "execution_count": 95,
     "metadata": {},
     "output_type": "execute_result"
    }
   ],
   "source": [
    "# 2\n",
    "numbers = [401, 700, 1011, 5001, 915, 86, 38]\n",
    "numbers.clear()\n",
    "numbers"
   ]
  },
  {
   "cell_type": "code",
   "execution_count": 96,
   "id": "8c7a9199",
   "metadata": {},
   "outputs": [
    {
     "data": {
      "text/plain": [
       "[]"
      ]
     },
     "execution_count": 96,
     "metadata": {},
     "output_type": "execute_result"
    }
   ],
   "source": [
    "# 3\n",
    "languages = ['efik', 'tiv', 'french', 'spanish', 'german']\n",
    "languages.clear()\n",
    "languages"
   ]
  },
  {
   "cell_type": "code",
   "execution_count": 97,
   "id": "47373769",
   "metadata": {},
   "outputs": [
    {
     "data": {
      "text/plain": [
       "[]"
      ]
     },
     "execution_count": 97,
     "metadata": {},
     "output_type": "execute_result"
    }
   ],
   "source": [
    "# 4\n",
    "flowers = ['rose', 'hibscus', 'lily']\n",
    "flowers.clear()\n",
    "flowers"
   ]
  },
  {
   "cell_type": "code",
   "execution_count": 98,
   "id": "14aac767",
   "metadata": {},
   "outputs": [
    {
     "data": {
      "text/plain": [
       "[]"
      ]
     },
     "execution_count": 98,
     "metadata": {},
     "output_type": "execute_result"
    }
   ],
   "source": [
    "# 5\n",
    "decimals = [2.2, 1.8, 7.9, 4.5, 9.2]\n",
    "decimals.clear()\n",
    "decimals"
   ]
  },
  {
   "cell_type": "code",
   "execution_count": 99,
   "id": "0a51c695",
   "metadata": {},
   "outputs": [
    {
     "data": {
      "text/plain": [
       "[]"
      ]
     },
     "execution_count": 99,
     "metadata": {},
     "output_type": "execute_result"
    }
   ],
   "source": [
    "# 6\n",
    "apps = [\"calculator\", \"reach\", \"bolt\", \"uber\"]\n",
    "apps.clear()\n",
    "apps"
   ]
  },
  {
   "cell_type": "code",
   "execution_count": 100,
   "id": "f52b7091",
   "metadata": {},
   "outputs": [
    {
     "data": {
      "text/plain": [
       "[]"
      ]
     },
     "execution_count": 100,
     "metadata": {},
     "output_type": "execute_result"
    }
   ],
   "source": [
    "# 7\n",
    "cabs = ['bolt', 'uber', 'lagos ride', 'rida']\n",
    "cabs.clear()\n",
    "cabs"
   ]
  },
  {
   "cell_type": "code",
   "execution_count": 102,
   "id": "b27270b9",
   "metadata": {},
   "outputs": [
    {
     "data": {
      "text/plain": [
       "[]"
      ]
     },
     "execution_count": 102,
     "metadata": {},
     "output_type": "execute_result"
    }
   ],
   "source": [
    "# 8\n",
    "shapes = ['circle', 'triangle', 'rectangle', 'square', 'trapezium']\n",
    "shapes.clear()\n",
    "shapes"
   ]
  },
  {
   "cell_type": "code",
   "execution_count": 104,
   "id": "538b8e4f",
   "metadata": {},
   "outputs": [
    {
     "data": {
      "text/plain": [
       "[]"
      ]
     },
     "execution_count": 104,
     "metadata": {},
     "output_type": "execute_result"
    }
   ],
   "source": [
    "# 9\n",
    "animals = ['zebra', 'lion', 'elephant', 'goat']\n",
    "animals.clear()\n",
    "animals"
   ]
  },
  {
   "cell_type": "code",
   "execution_count": 105,
   "id": "5c70de33",
   "metadata": {},
   "outputs": [
    {
     "data": {
      "text/plain": [
       "[]"
      ]
     },
     "execution_count": 105,
     "metadata": {},
     "output_type": "execute_result"
    }
   ],
   "source": [
    "# 10\n",
    "nature = ['hills', 'mountains', 'sky', 'cloud', 'sun']\n",
    "nature.clear()\n",
    "nature"
   ]
  },
  {
   "cell_type": "markdown",
   "id": "e6bac06b",
   "metadata": {},
   "source": [
    "# Copy"
   ]
  },
  {
   "cell_type": "code",
   "execution_count": 1,
   "id": "1a2c1c5c",
   "metadata": {},
   "outputs": [
    {
     "data": {
      "text/plain": [
       "['chicago', 'ibadan', 'california', 'london']"
      ]
     },
     "execution_count": 1,
     "metadata": {},
     "output_type": "execute_result"
    }
   ],
   "source": [
    "# 1\n",
    "cities = [\"chicago\", \"ibadan\", \"california\", \"london\"]\n",
    "city = cities.copy()\n",
    "city"
   ]
  },
  {
   "cell_type": "code",
   "execution_count": 2,
   "id": "151d5b9f",
   "metadata": {},
   "outputs": [
    {
     "data": {
      "text/plain": [
       "['stv', 'ltv', 'nta', 'channels']"
      ]
     },
     "execution_count": 2,
     "metadata": {},
     "output_type": "execute_result"
    }
   ],
   "source": [
    "# 2\n",
    "channels = ['stv', 'ltv', 'nta', 'channels']\n",
    "c = channels.copy()\n",
    "c"
   ]
  },
  {
   "cell_type": "code",
   "execution_count": 4,
   "id": "0ed53fda",
   "metadata": {},
   "outputs": [
    {
     "data": {
      "text/plain": [
       "['milk', 'milo', 'bread', 'butter', 'biscuits']"
      ]
     },
     "execution_count": 4,
     "metadata": {},
     "output_type": "execute_result"
    }
   ],
   "source": [
    "# 3\n",
    "groceries = ['milk', 'milo', 'bread', 'butter', 'biscuits']\n",
    "items = groceries.copy()\n",
    "items"
   ]
  },
  {
   "cell_type": "code",
   "execution_count": 5,
   "id": "134b1cba",
   "metadata": {},
   "outputs": [
    {
     "data": {
      "text/plain": [
       "['blender', 'bulbs', 'wristwatches', 'rubber', 'plastics']"
      ]
     },
     "execution_count": 5,
     "metadata": {},
     "output_type": "execute_result"
    }
   ],
   "source": [
    "# 4\n",
    "list_items = ['blender', 'bulbs', 'wristwatches', 'rubber', 'plastics']\n",
    "l = list_items.copy()\n",
    "l"
   ]
  },
  {
   "cell_type": "code",
   "execution_count": 6,
   "id": "3b77eeed",
   "metadata": {},
   "outputs": [
    {
     "data": {
      "text/plain": [
       "['tyres', 'wheels', 'brainbox', 'gear']"
      ]
     },
     "execution_count": 6,
     "metadata": {},
     "output_type": "execute_result"
    }
   ],
   "source": [
    "# 5\n",
    "car_parts = ['tyres', 'wheels', 'brainbox', 'gear']\n",
    "cp = car_parts.copy()\n",
    "cp"
   ]
  },
  {
   "cell_type": "code",
   "execution_count": 7,
   "id": "797e2f84",
   "metadata": {},
   "outputs": [
    {
     "data": {
      "text/plain": [
       "['parallelogram', 'pyramid', 'cube', 'cuboid']"
      ]
     },
     "execution_count": 7,
     "metadata": {},
     "output_type": "execute_result"
    }
   ],
   "source": [
    "# 6\n",
    "shapes = ['parallelogram', 'pyramid', 'cube', 'cuboid']\n",
    "s = shapes.copy()\n",
    "s"
   ]
  },
  {
   "cell_type": "code",
   "execution_count": 8,
   "id": "dd29be05",
   "metadata": {},
   "outputs": [
    {
     "data": {
      "text/plain": [
       "['radius', 'arc', 'circunference']"
      ]
     },
     "execution_count": 8,
     "metadata": {},
     "output_type": "execute_result"
    }
   ],
   "source": [
    "# 7\n",
    "circle = ['radius', 'arc', 'circunference']\n",
    "c = circle.copy()\n",
    "c"
   ]
  },
  {
   "cell_type": "code",
   "execution_count": 9,
   "id": "9565dfd5",
   "metadata": {},
   "outputs": [
    {
     "data": {
      "text/plain": [
       "[60, 90, 180, 270, 360]"
      ]
     },
     "execution_count": 9,
     "metadata": {},
     "output_type": "execute_result"
    }
   ],
   "source": [
    "# 8\n",
    "angles = [60, 90, 180, 270, 360 ]\n",
    "a = angles.copy()\n",
    "a"
   ]
  },
  {
   "cell_type": "code",
   "execution_count": 10,
   "id": "f1feb188",
   "metadata": {},
   "outputs": [
    {
     "data": {
      "text/plain": [
       "['needles', 'sewing machine', 'scissors', 'materials']"
      ]
     },
     "execution_count": 10,
     "metadata": {},
     "output_type": "execute_result"
    }
   ],
   "source": [
    "# 9\n",
    "items = ['needles', 'sewing machine', 'scissors', 'materials']\n",
    "tailoring = items.copy()\n",
    "tailoring"
   ]
  },
  {
   "cell_type": "code",
   "execution_count": 12,
   "id": "6f337747",
   "metadata": {},
   "outputs": [
    {
     "data": {
      "text/plain": [
       "['cut', 'copy', 'vlookup', 'xlookup', 'sort']"
      ]
     },
     "execution_count": 12,
     "metadata": {},
     "output_type": "execute_result"
    }
   ],
   "source": [
    "# 10\n",
    "excel_features = [\"cut\", \"copy\", \"vlookup\", \"xlookup\", \"sort\"]\n",
    "ef = excel_features.copy()\n",
    "ef"
   ]
  },
  {
   "cell_type": "markdown",
   "id": "54d8af52",
   "metadata": {},
   "source": [
    "# Count"
   ]
  },
  {
   "cell_type": "code",
   "execution_count": 17,
   "id": "0d011c3a",
   "metadata": {},
   "outputs": [
    {
     "data": {
      "text/plain": [
       "3"
      ]
     },
     "execution_count": 17,
     "metadata": {},
     "output_type": "execute_result"
    }
   ],
   "source": [
    "# 1\n",
    "colors = ['white', 'black', 'orange', 'yellow', 'black', 'orange', 'blue', 'white', 'red', 'black']\n",
    "colors.count('black')"
   ]
  },
  {
   "cell_type": "code",
   "execution_count": 18,
   "id": "b0bb993d",
   "metadata": {},
   "outputs": [
    {
     "data": {
      "text/plain": [
       "2"
      ]
     },
     "execution_count": 18,
     "metadata": {},
     "output_type": "execute_result"
    }
   ],
   "source": [
    "# 2\n",
    "colors.count('orange')"
   ]
  },
  {
   "cell_type": "code",
   "execution_count": 19,
   "id": "8fed119c",
   "metadata": {},
   "outputs": [
    {
     "data": {
      "text/plain": [
       "1"
      ]
     },
     "execution_count": 19,
     "metadata": {},
     "output_type": "execute_result"
    }
   ],
   "source": [
    "# 3\n",
    "colors.count('yellow')"
   ]
  },
  {
   "cell_type": "code",
   "execution_count": 20,
   "id": "fdd29a9f",
   "metadata": {},
   "outputs": [
    {
     "data": {
      "text/plain": [
       "2"
      ]
     },
     "execution_count": 20,
     "metadata": {},
     "output_type": "execute_result"
    }
   ],
   "source": [
    "# 4\n",
    "numbers = [1, 2, 3, 4, 5, 6, 7, 8, 4, 3, 1, 1, 3, 2, 1, 6, 7, 7, 3, 5, 11, 10, 201, 55, 51, 54, 18, 12, 11, 9, 10]\n",
    "numbers.count(2)"
   ]
  },
  {
   "cell_type": "code",
   "execution_count": 21,
   "id": "6c88c81b",
   "metadata": {},
   "outputs": [
    {
     "data": {
      "text/plain": [
       "4"
      ]
     },
     "execution_count": 21,
     "metadata": {},
     "output_type": "execute_result"
    }
   ],
   "source": [
    "# 5\n",
    "numbers.count(3)"
   ]
  },
  {
   "cell_type": "code",
   "execution_count": 22,
   "id": "86f32303",
   "metadata": {},
   "outputs": [
    {
     "data": {
      "text/plain": [
       "4"
      ]
     },
     "execution_count": 22,
     "metadata": {},
     "output_type": "execute_result"
    }
   ],
   "source": [
    "# 6\n",
    "numbers.count(1)"
   ]
  },
  {
   "cell_type": "code",
   "execution_count": 23,
   "id": "df7c647c",
   "metadata": {},
   "outputs": [
    {
     "data": {
      "text/plain": [
       "0"
      ]
     },
     "execution_count": 23,
     "metadata": {},
     "output_type": "execute_result"
    }
   ],
   "source": [
    "# 7\n",
    "months = ['june', 'november', 'april', 'june', 'may', 'august', 'september', 'july', 'august', 'december']\n",
    "months.count('october')"
   ]
  },
  {
   "cell_type": "code",
   "execution_count": 25,
   "id": "a25aef7c",
   "metadata": {},
   "outputs": [
    {
     "data": {
      "text/plain": [
       "2"
      ]
     },
     "execution_count": 25,
     "metadata": {},
     "output_type": "execute_result"
    }
   ],
   "source": [
    "# 8\n",
    "months.count('june')"
   ]
  },
  {
   "cell_type": "code",
   "execution_count": 26,
   "id": "c8c5d42a",
   "metadata": {},
   "outputs": [
    {
     "data": {
      "text/plain": [
       "2"
      ]
     },
     "execution_count": 26,
     "metadata": {},
     "output_type": "execute_result"
    }
   ],
   "source": [
    "# 9\n",
    "months.count('august')"
   ]
  },
  {
   "cell_type": "code",
   "execution_count": 27,
   "id": "5d8e9f1e",
   "metadata": {},
   "outputs": [
    {
     "data": {
      "text/plain": [
       "2"
      ]
     },
     "execution_count": 27,
     "metadata": {},
     "output_type": "execute_result"
    }
   ],
   "source": [
    "# 10\n",
    "scores = [111, 121, 110, 111, 315, 148, 987, 1010, 1200, 114, 110, 315]\n",
    "scores.count(111)"
   ]
  },
  {
   "cell_type": "markdown",
   "id": "240a3350",
   "metadata": {},
   "source": [
    "# Index"
   ]
  },
  {
   "cell_type": "code",
   "execution_count": 28,
   "id": "c82fb926",
   "metadata": {},
   "outputs": [
    {
     "data": {
      "text/plain": [
       "4"
      ]
     },
     "execution_count": 28,
     "metadata": {},
     "output_type": "execute_result"
    }
   ],
   "source": [
    "# 1\n",
    "countries = [\"Nigeria\", \"USA\", \"Ghana\", \"South Africa\", \"China\"]\n",
    "countries.index(\"China\")"
   ]
  },
  {
   "cell_type": "code",
   "execution_count": 29,
   "id": "046755cf",
   "metadata": {},
   "outputs": [
    {
     "data": {
      "text/plain": [
       "2"
      ]
     },
     "execution_count": 29,
     "metadata": {},
     "output_type": "execute_result"
    }
   ],
   "source": [
    "# 2\n",
    "countries.index(\"Ghana\")"
   ]
  },
  {
   "cell_type": "code",
   "execution_count": 30,
   "id": "301ddacc",
   "metadata": {},
   "outputs": [
    {
     "data": {
      "text/plain": [
       "0"
      ]
     },
     "execution_count": 30,
     "metadata": {},
     "output_type": "execute_result"
    }
   ],
   "source": [
    "# 3\n",
    "stationaries = ['pencil', 'biro', 'eraser', 'ruler', 'sharpener']\n",
    "stationaries.index('pencil')"
   ]
  },
  {
   "cell_type": "code",
   "execution_count": 32,
   "id": "085dcfb2",
   "metadata": {},
   "outputs": [
    {
     "data": {
      "text/plain": [
       "3"
      ]
     },
     "execution_count": 32,
     "metadata": {},
     "output_type": "execute_result"
    }
   ],
   "source": [
    "# 4\n",
    "stationaries.index('ruler')"
   ]
  },
  {
   "cell_type": "code",
   "execution_count": 33,
   "id": "dd4a4fe2",
   "metadata": {},
   "outputs": [
    {
     "data": {
      "text/plain": [
       "1"
      ]
     },
     "execution_count": 33,
     "metadata": {},
     "output_type": "execute_result"
    }
   ],
   "source": [
    "# 5\n",
    "age_students = [14, 13, 12, 16, 18, 9, 11]\n",
    "age_students.index(13)"
   ]
  },
  {
   "cell_type": "code",
   "execution_count": 34,
   "id": "e95e5b45",
   "metadata": {},
   "outputs": [
    {
     "data": {
      "text/plain": [
       "5"
      ]
     },
     "execution_count": 34,
     "metadata": {},
     "output_type": "execute_result"
    }
   ],
   "source": [
    "# 6\n",
    "age_students.index(9)"
   ]
  },
  {
   "cell_type": "code",
   "execution_count": 35,
   "id": "faab4ad3",
   "metadata": {},
   "outputs": [
    {
     "data": {
      "text/plain": [
       "3"
      ]
     },
     "execution_count": 35,
     "metadata": {},
     "output_type": "execute_result"
    }
   ],
   "source": [
    "# 7\n",
    "py = [\"list\", \"tuples\", \"dictionary\", \"function\", \"loops\"]\n",
    "py.index(\"function\")"
   ]
  },
  {
   "cell_type": "code",
   "execution_count": 36,
   "id": "b4b58af1",
   "metadata": {},
   "outputs": [
    {
     "data": {
      "text/plain": [
       "4"
      ]
     },
     "execution_count": 36,
     "metadata": {},
     "output_type": "execute_result"
    }
   ],
   "source": [
    "# 8\n",
    "py.index(\"loops\")"
   ]
  },
  {
   "cell_type": "code",
   "execution_count": 37,
   "id": "85d42a16",
   "metadata": {},
   "outputs": [
    {
     "data": {
      "text/plain": [
       "1"
      ]
     },
     "execution_count": 37,
     "metadata": {},
     "output_type": "execute_result"
    }
   ],
   "source": [
    "# 9\n",
    "py.index(\"tuples\")"
   ]
  },
  {
   "cell_type": "code",
   "execution_count": 38,
   "id": "3b62c7b2",
   "metadata": {},
   "outputs": [
    {
     "data": {
      "text/plain": [
       "2"
      ]
     },
     "execution_count": 38,
     "metadata": {},
     "output_type": "execute_result"
    }
   ],
   "source": [
    "# 10\n",
    "py.index(\"dictionary\")"
   ]
  },
  {
   "cell_type": "code",
   "execution_count": null,
   "id": "9dec92db",
   "metadata": {},
   "outputs": [],
   "source": []
  },
  {
   "cell_type": "code",
   "execution_count": null,
   "id": "302093f5",
   "metadata": {},
   "outputs": [],
   "source": []
  },
  {
   "cell_type": "code",
   "execution_count": null,
   "id": "9a21a920",
   "metadata": {},
   "outputs": [],
   "source": []
  }
 ],
 "metadata": {
  "kernelspec": {
   "display_name": "Python 3 (ipykernel)",
   "language": "python",
   "name": "python3"
  },
  "language_info": {
   "codemirror_mode": {
    "name": "ipython",
    "version": 3
   },
   "file_extension": ".py",
   "mimetype": "text/x-python",
   "name": "python",
   "nbconvert_exporter": "python",
   "pygments_lexer": "ipython3",
   "version": "3.11.5"
  }
 },
 "nbformat": 4,
 "nbformat_minor": 5
}
